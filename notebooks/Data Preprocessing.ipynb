{
 "cells": [
  {
   "cell_type": "markdown",
   "metadata": {},
   "source": [
    "## Data preprocessing notebook\n",
    "\n",
    "For all pre-processing of the raw data "
   ]
  },
  {
   "cell_type": "markdown",
   "metadata": {},
   "source": [
    "#### MultiNLI Pre-processing"
   ]
  },
  {
   "cell_type": "code",
   "execution_count": 7,
   "metadata": {},
   "outputs": [
    {
     "name": "stderr",
     "output_type": "stream",
     "text": [
      "b'Skipping line 24810: expected 15 fields, saw 16\\nSkipping line 33961: expected 15 fields, saw 16\\n'\n",
      "b'Skipping line 75911: expected 15 fields, saw 16\\nSkipping line 100114: expected 15 fields, saw 16\\n'\n",
      "b'Skipping line 150638: expected 15 fields, saw 16\\nSkipping line 158834: expected 15 fields, saw 16\\nSkipping line 173104: expected 15 fields, saw 16\\nSkipping line 178252: expected 15 fields, saw 16\\n'\n",
      "b'Skipping line 221951: expected 15 fields, saw 16\\n'\n",
      "b'Skipping line 286845: expected 15 fields, saw 16\\nSkipping line 314110: expected 15 fields, saw 16\\n'\n",
      "/Library/Frameworks/Python.framework/Versions/3.8/lib/python3.8/site-packages/IPython/core/interactiveshell.py:3071: DtypeWarning: Columns (7) have mixed types.Specify dtype option on import or set low_memory=False.\n",
      "  has_raised = await self.run_ast_nodes(code_ast.body, cell_name,\n"
     ]
    }
   ],
   "source": [
    "import os\n",
    "import pandas as pd\n",
    "\n",
    "root_dir = os.path.abspath(\"..\")\n",
    "raw_multinli_train_path = os.path.join(root_dir, 'input/multinli/multinli_1.0_train.txt')\n",
    "raw_multinli_test_path = os.path.join(root_dir, 'input/multinli-dev/multinli_1.0_dev_matched.txt')\n",
    "\n",
    "downsampled_multinli_train_path = os.path.join(root_dir, 'input/multinli/multinli_1.0_train_DOWNSAMPLED.txt')\n",
    "downsampled_multinli_test_path = os.path.join(root_dir, 'input/multinli-dev/multinli_1.0_dev_DOWNSAMPLED.txt')\n",
    "\n",
    "\n",
    "TRAIN_DOWNSAMPLE_FRACTION = 0.1\n",
    "TEST_DOWNSAMPLE_FRACTION = 1\n",
    "\n",
    "\n",
    "multinli_train_data = pd.read_csv(raw_multinli_train_path, sep='\\t', error_bad_lines=False).dropna(subset=[\"sentence1\", \"sentence2\"]).sample(frac=TRAIN_DOWNSAMPLE_FRACTION, random_state=19)\n",
    "multinli_test_data = pd.read_csv(raw_multinli_test_path, sep='\\t', error_bad_lines=False).dropna(subset=[\"sentence1\", \"sentence2\"]).sample(frac=TEST_DOWNSAMPLE_FRACTION, random_state=19)\n",
    "\n",
    "\n",
    "multinli_train_data.to_csv(downsampled_multinli_train_path, index=False)\n",
    "multinli_test_data.to_csv(downsampled_multinli_test_path, index=False)\n",
    "\n",
    "\n"
   ]
  },
  {
   "cell_type": "code",
   "execution_count": null,
   "metadata": {},
   "outputs": [],
   "source": []
  },
  {
   "cell_type": "code",
   "execution_count": null,
   "metadata": {},
   "outputs": [],
   "source": []
  },
  {
   "cell_type": "code",
   "execution_count": null,
   "metadata": {},
   "outputs": [],
   "source": []
  },
  {
   "cell_type": "code",
   "execution_count": null,
   "metadata": {},
   "outputs": [],
   "source": []
  },
  {
   "cell_type": "code",
   "execution_count": null,
   "metadata": {},
   "outputs": [],
   "source": []
  }
 ],
 "metadata": {
  "kernelspec": {
   "display_name": "Python 3",
   "language": "python",
   "name": "python3"
  },
  "language_info": {
   "codemirror_mode": {
    "name": "ipython",
    "version": 3
   },
   "file_extension": ".py",
   "mimetype": "text/x-python",
   "name": "python",
   "nbconvert_exporter": "python",
   "pygments_lexer": "ipython3",
   "version": "3.8.3"
  }
 },
 "nbformat": 4,
 "nbformat_minor": 4
}
