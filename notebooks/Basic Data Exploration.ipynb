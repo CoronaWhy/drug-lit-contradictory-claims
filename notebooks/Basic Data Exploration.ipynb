{
 "cells": [
  {
   "cell_type": "code",
   "execution_count": 7,
   "metadata": {},
   "outputs": [
    {
     "name": "stderr",
     "output_type": "stream",
     "text": [
      "b'Skipping line 24810: expected 15 fields, saw 16\\nSkipping line 33961: expected 15 fields, saw 16\\n'\n",
      "b'Skipping line 75911: expected 15 fields, saw 16\\nSkipping line 100114: expected 15 fields, saw 16\\n'\n",
      "b'Skipping line 150638: expected 15 fields, saw 16\\nSkipping line 158834: expected 15 fields, saw 16\\nSkipping line 173104: expected 15 fields, saw 16\\nSkipping line 178252: expected 15 fields, saw 16\\n'\n",
      "b'Skipping line 221951: expected 15 fields, saw 16\\n'\n",
      "b'Skipping line 286845: expected 15 fields, saw 16\\nSkipping line 314110: expected 15 fields, saw 16\\n'\n",
      "/Library/Frameworks/Python.framework/Versions/3.8/lib/python3.8/site-packages/IPython/core/interactiveshell.py:3071: DtypeWarning: Columns (7) have mixed types.Specify dtype option on import or set low_memory=False.\n",
      "  has_raised = await self.run_ast_nodes(code_ast.body, cell_name,\n"
     ]
    }
   ],
   "source": [
    "# Exploring the input data, doing things like counting proportions of each class\n",
    "\n",
    "import pandas as pd\n",
    "\n",
    "multi_train_path = \"/Users/dnsosa/Desktop/AltmanLab/ContradictoryClaims/drug-lit-contradictory-claims/input/multinli/multinli_1.0_train.txt\"\n",
    "multi_test_path = \"/Users/dnsosa/Desktop/AltmanLab/ContradictoryClaims/drug-lit-contradictory-claims/input/multinli-dev/multinli_1.0_dev_matched.txt\"\n",
    "\n",
    "downsample = 0.1\n",
    "\n",
    "multinli_train_data = pd.read_csv(multi_train_path, sep='\\t', error_bad_lines=False).dropna(subset=[\"sentence1\", \"sentence2\"]).sample(frac=downsample)\n",
    "multinli_test_data = pd.read_csv(multi_test_path, sep='\\t', error_bad_lines=False).dropna(subset=[\"sentence1\", \"sentence2\"]).sample(frac=1)\n",
    "\n",
    "\n"
   ]
  },
  {
   "cell_type": "code",
   "execution_count": 14,
   "metadata": {},
   "outputs": [
    {
     "name": "stdout",
     "output_type": "stream",
     "text": [
      "12948\n",
      "13131\n",
      "13033\n"
     ]
    }
   ],
   "source": [
    "print(len(multinli_train_data[multinli_train_data.gold_label == \"neutral\"]))\n",
    "print(len(multinli_train_data[multinli_train_data.gold_label == \"contradiction\"]))\n",
    "print(len(multinli_train_data[multinli_train_data.gold_label == \"entailment\"]))"
   ]
  },
  {
   "cell_type": "code",
   "execution_count": 15,
   "metadata": {},
   "outputs": [
    {
     "name": "stdout",
     "output_type": "stream",
     "text": [
      "3094\n",
      "3180\n",
      "3440\n"
     ]
    }
   ],
   "source": [
    "print(len(multinli_test_data[multinli_test_data.gold_label == \"neutral\"]))\n",
    "print(len(multinli_test_data[multinli_test_data.gold_label == \"contradiction\"]))\n",
    "print(len(multinli_test_data[multinli_test_data.gold_label == \"entailment\"]))"
   ]
  },
  {
   "cell_type": "code",
   "execution_count": null,
   "metadata": {},
   "outputs": [],
   "source": []
  },
  {
   "cell_type": "code",
   "execution_count": null,
   "metadata": {},
   "outputs": [],
   "source": []
  },
  {
   "cell_type": "code",
   "execution_count": 1,
   "metadata": {},
   "outputs": [
    {
     "name": "stdout",
     "output_type": "stream",
     "text": [
      "10451 unique drugs found in training & testing corpus:\n"
     ]
    }
   ],
   "source": [
    "from contradictory_claims.data.make_dataset import create_mancon_sent_pairs_from_xml,\\\n",
    "    load_cord_pairs_v2, load_drug_virus_lexicons, load_mancon_corpus_from_sent_pairs,\\\n",
    "    load_med_nli, load_multi_nli\n",
    "\n",
    "import os\n",
    "\n",
    "root_dir = \"/Users/dnsosa/Desktop/AltmanLab/ContradictoryClaims/drug-lit-contradictory-claims/\"\n",
    "\n",
    "mednli_train_path = os.path.join(root_dir, 'input/mednli/mli_train_v1.jsonl')\n",
    "mednli_dev_path = os.path.join(root_dir, 'input/mednli/mli_dev_v1.jsonl')\n",
    "mednli_test_path = os.path.join(root_dir, 'input/mednli/mli_test_v1.jsonl')\n",
    "\n",
    "drug_lex_path = os.path.join(root_dir, 'input/drugnames/DrugNames.txt')\n",
    "virus_lex_path = os.path.join(root_dir, 'input/virus-words/virus_words.txt')\n",
    "\n",
    "drug_names, virus_names = load_drug_virus_lexicons(drug_lex_path, virus_lex_path)\n",
    "\n",
    "med_nli_train_x, med_nli_train_y, med_nli_test_x, med_nli_test_y = \\\n",
    "            load_med_nli(mednli_train_path, mednli_dev_path, mednli_test_path, multi_class=True,\n",
    "                         drug_names=drug_names)"
   ]
  },
  {
   "cell_type": "code",
   "execution_count": 24,
   "metadata": {},
   "outputs": [
    {
     "name": "stdout",
     "output_type": "stream",
     "text": [
      "[4209. 4209. 4209.]\n",
      "[474. 474. 474.]\n"
     ]
    }
   ],
   "source": [
    "print(med_nli_train_y.sum(axis=0))\n",
    "print(med_nli_test_y.sum(axis=0))"
   ]
  },
  {
   "cell_type": "code",
   "execution_count": null,
   "metadata": {},
   "outputs": [],
   "source": []
  },
  {
   "cell_type": "code",
   "execution_count": null,
   "metadata": {},
   "outputs": [],
   "source": []
  },
  {
   "cell_type": "code",
   "execution_count": 2,
   "metadata": {},
   "outputs": [
    {
     "name": "stdout",
     "output_type": "stream",
     "text": [
      "Number of contradiction pairs: 726\n",
      "Number of entailment pairs: 726\n",
      "Number of neutral pairs: 726\n"
     ]
    }
   ],
   "source": [
    "# ManConCorpus xml path\n",
    "mancon_xml_path = os.path.join(root_dir, 'input/manconcorpus/ManConCorpus.xml')\n",
    "\n",
    "# ManConCorpus processed path\n",
    "mancon_sent_pairs = os.path.join(root_dir, 'input/manconcorpus-sent-pairs/manconcorpus_sent_pairs_v2.tsv')\n",
    "mancon_eval_path = os.path.join(root_dir, 'input/manconcorpus/manconcorpus_benchmark_eval_data.tsv')\n",
    "\n",
    "# Create ManCon sentence pairs dataset. Also return the eval data to be used\n",
    "mancon_eval_data = create_mancon_sent_pairs_from_xml(mancon_xml_path, mancon_sent_pairs, mancon_eval_path)\n",
    "\n",
    "man_con_train_x, man_con_train_y, man_con_test_x, man_con_test_y = \\\n",
    "            load_mancon_corpus_from_sent_pairs(mancon_sent_pairs, multi_class=True, drug_names=drug_names)"
   ]
  },
  {
   "cell_type": "code",
   "execution_count": 31,
   "metadata": {},
   "outputs": [
    {
     "data": {
      "text/plain": [
       "array([12259.,   210.,   145.], dtype=float32)"
      ]
     },
     "execution_count": 31,
     "metadata": {},
     "output_type": "execute_result"
    }
   ],
   "source": [
    "man_con_test_y.sum(axis=0)"
   ]
  },
  {
   "cell_type": "code",
   "execution_count": 8,
   "metadata": {},
   "outputs": [],
   "source": [
    "mancon_data = pd.read_csv(mancon_sent_pairs, sep='\\t')\n",
    "mancon_data['label'] = [2 if label == 'contradiction' else 1 if label == 'entailment' else 0 for\n",
    "                        label in mancon_data.label]"
   ]
  },
  {
   "cell_type": "code",
   "execution_count": 9,
   "metadata": {},
   "outputs": [
    {
     "name": "stdout",
     "output_type": "stream",
     "text": [
      "726\n",
      "726\n",
      "726\n"
     ]
    }
   ],
   "source": [
    "g = mancon_data.groupby('label', group_keys=False)\n",
    "mancon_data = pd.DataFrame(g.apply(lambda x: x.sample(g.size().min()))).reset_index(drop=True)\n",
    "print(len(mancon_data[mancon_data.label == 0]))\n",
    "print(len(mancon_data[mancon_data.label == 1]))\n",
    "print(len(mancon_data[mancon_data.label == 2]))"
   ]
  },
  {
   "cell_type": "code",
   "execution_count": 10,
   "metadata": {},
   "outputs": [
    {
     "data": {
      "text/html": [
       "<div>\n",
       "<style scoped>\n",
       "    .dataframe tbody tr th:only-of-type {\n",
       "        vertical-align: middle;\n",
       "    }\n",
       "\n",
       "    .dataframe tbody tr th {\n",
       "        vertical-align: top;\n",
       "    }\n",
       "\n",
       "    .dataframe thead th {\n",
       "        text-align: right;\n",
       "    }\n",
       "</style>\n",
       "<table border=\"1\" class=\"dataframe\">\n",
       "  <thead>\n",
       "    <tr style=\"text-align: right;\">\n",
       "      <th></th>\n",
       "      <th>text_a</th>\n",
       "      <th>text_b</th>\n",
       "      <th>label</th>\n",
       "      <th>guid</th>\n",
       "    </tr>\n",
       "  </thead>\n",
       "  <tbody>\n",
       "    <tr>\n",
       "      <th>0</th>\n",
       "      <td>The results suggest that genetic factors play ...</td>\n",
       "      <td>In the treatment of patients with hypertension...</td>\n",
       "      <td>0</td>\n",
       "      <td>56764</td>\n",
       "    </tr>\n",
       "    <tr>\n",
       "      <th>1</th>\n",
       "      <td>Synergism of angiotensin-converting enzyme I/D...</td>\n",
       "      <td>Among patients with chronic ischemic heart fai...</td>\n",
       "      <td>0</td>\n",
       "      <td>2243</td>\n",
       "    </tr>\n",
       "    <tr>\n",
       "      <th>2</th>\n",
       "      <td>If replicated, LGE may be considered an import...</td>\n",
       "      <td>Daily electronic transmission of body weight a...</td>\n",
       "      <td>0</td>\n",
       "      <td>10417</td>\n",
       "    </tr>\n",
       "    <tr>\n",
       "      <th>3</th>\n",
       "      <td>Losartan conferred significant renal benefits ...</td>\n",
       "      <td>In this population, moderate intake of fatty f...</td>\n",
       "      <td>0</td>\n",
       "      <td>23080</td>\n",
       "    </tr>\n",
       "    <tr>\n",
       "      <th>4</th>\n",
       "      <td>It is concluded that the C242T polymorphism of...</td>\n",
       "      <td>Captopril protects against deterioration in re...</td>\n",
       "      <td>0</td>\n",
       "      <td>51114</td>\n",
       "    </tr>\n",
       "    <tr>\n",
       "      <th>...</th>\n",
       "      <td>...</td>\n",
       "      <td>...</td>\n",
       "      <td>...</td>\n",
       "      <td>...</td>\n",
       "    </tr>\n",
       "    <tr>\n",
       "      <th>2173</th>\n",
       "      <td>The results indicate that total treatment cost...</td>\n",
       "      <td>Home telecare may not offer incremental benefi...</td>\n",
       "      <td>2</td>\n",
       "      <td>236</td>\n",
       "    </tr>\n",
       "    <tr>\n",
       "      <th>2174</th>\n",
       "      <td>Captopril protects against deterioration in re...</td>\n",
       "      <td>Quinapril 20 mg did not significantly affect t...</td>\n",
       "      <td>2</td>\n",
       "      <td>126</td>\n",
       "    </tr>\n",
       "    <tr>\n",
       "      <th>2175</th>\n",
       "      <td>The ecNOS gene a/b polymorphism and the NADH/N...</td>\n",
       "      <td>In the total population and in high and low ri...</td>\n",
       "      <td>2</td>\n",
       "      <td>590</td>\n",
       "    </tr>\n",
       "    <tr>\n",
       "      <th>2176</th>\n",
       "      <td>A formal education and support intervention su...</td>\n",
       "      <td>Telemedicine management may not be appropriate...</td>\n",
       "      <td>2</td>\n",
       "      <td>226</td>\n",
       "    </tr>\n",
       "    <tr>\n",
       "      <th>2177</th>\n",
       "      <td>these results support the increased risk of de...</td>\n",
       "      <td>Our null results provide no support for the hy...</td>\n",
       "      <td>2</td>\n",
       "      <td>605</td>\n",
       "    </tr>\n",
       "  </tbody>\n",
       "</table>\n",
       "<p>2178 rows × 4 columns</p>\n",
       "</div>"
      ],
      "text/plain": [
       "                                                 text_a  \\\n",
       "0     The results suggest that genetic factors play ...   \n",
       "1     Synergism of angiotensin-converting enzyme I/D...   \n",
       "2     If replicated, LGE may be considered an import...   \n",
       "3     Losartan conferred significant renal benefits ...   \n",
       "4     It is concluded that the C242T polymorphism of...   \n",
       "...                                                 ...   \n",
       "2173  The results indicate that total treatment cost...   \n",
       "2174  Captopril protects against deterioration in re...   \n",
       "2175  The ecNOS gene a/b polymorphism and the NADH/N...   \n",
       "2176  A formal education and support intervention su...   \n",
       "2177  these results support the increased risk of de...   \n",
       "\n",
       "                                                 text_b  label   guid  \n",
       "0     In the treatment of patients with hypertension...      0  56764  \n",
       "1     Among patients with chronic ischemic heart fai...      0   2243  \n",
       "2     Daily electronic transmission of body weight a...      0  10417  \n",
       "3     In this population, moderate intake of fatty f...      0  23080  \n",
       "4     Captopril protects against deterioration in re...      0  51114  \n",
       "...                                                 ...    ...    ...  \n",
       "2173  Home telecare may not offer incremental benefi...      2    236  \n",
       "2174  Quinapril 20 mg did not significantly affect t...      2    126  \n",
       "2175  In the total population and in high and low ri...      2    590  \n",
       "2176  Telemedicine management may not be appropriate...      2    226  \n",
       "2177  Our null results provide no support for the hy...      2    605  \n",
       "\n",
       "[2178 rows x 4 columns]"
      ]
     },
     "execution_count": 10,
     "metadata": {},
     "output_type": "execute_result"
    }
   ],
   "source": [
    "mancon_data"
   ]
  },
  {
   "cell_type": "code",
   "execution_count": null,
   "metadata": {},
   "outputs": [],
   "source": []
  },
  {
   "cell_type": "code",
   "execution_count": null,
   "metadata": {},
   "outputs": [],
   "source": []
  },
  {
   "cell_type": "code",
   "execution_count": null,
   "metadata": {},
   "outputs": [],
   "source": []
  },
  {
   "cell_type": "code",
   "execution_count": null,
   "metadata": {},
   "outputs": [],
   "source": []
  },
  {
   "cell_type": "code",
   "execution_count": null,
   "metadata": {},
   "outputs": [],
   "source": []
  },
  {
   "cell_type": "code",
   "execution_count": null,
   "metadata": {},
   "outputs": [],
   "source": [
    "# now to save and load model -- Biobert\n",
    "\n",
    "\n",
    "trained_model, train_history = train_model(multi_nli_train_x, multi_nli_train_y,\n",
    "                                           multi_nli_test_x, multi_nli_test_y,\n",
    "                                           med_nli_train_x, med_nli_train_y,\n",
    "                                           med_nli_test_x, med_nli_test_y,\n",
    "                                           man_con_train_x, man_con_train_y,\n",
    "                                           man_con_test_x, man_con_test_y,\n",
    "                                           cord_train_x, cord_train_y,\n",
    "                                           cord_test_x, cord_test_y,\n",
    "                                           drug_names, virus_names,\n",
    "                                           model_name=\"allenai/biomed_roberta_base\",\n",
    "                                           use_multi_nli=use_multinli,\n",
    "                                           use_med_nli=use_mednli,\n",
    "                                           use_man_con=use_mancon,\n",
    "                                           use_cord=use_roamdev,\n",
    "                                           epochs=epochs,\n",
    "                                           batch_size=batch_size,  # class_weights, aux_input,\n",
    "                                           learning_rate=learning_rate,\n",
    "                                           multi_class=multi_class)\n",
    "\n",
    "# Save model\n",
    "# out_dir = 'output/working/biomed_roberta_base/'\n",
    "# out_dir = output_dir\n",
    "# biobert_out_dir = f\"output/trained_biobert/biobert_{uid}\"\n",
    "save_model(trained_model, timed_dir_name=False, transformer_dir=out_dir)\n",
    "shutil.make_archive('biobert_output', 'zip', root_dir=out_dir)  # ok currently this seems to do nothing\n",
    "\n"
   ]
  }
 ],
 "metadata": {
  "kernelspec": {
   "display_name": "Python 3",
   "language": "python",
   "name": "python3"
  },
  "language_info": {
   "codemirror_mode": {
    "name": "ipython",
    "version": 3
   },
   "file_extension": ".py",
   "mimetype": "text/x-python",
   "name": "python",
   "nbconvert_exporter": "python",
   "pygments_lexer": "ipython3",
   "version": "3.8.3"
  }
 },
 "nbformat": 4,
 "nbformat_minor": 4
}
